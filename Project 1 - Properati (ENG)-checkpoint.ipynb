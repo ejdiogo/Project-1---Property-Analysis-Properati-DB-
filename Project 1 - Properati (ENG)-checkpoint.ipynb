{
 "cells": [
  {
   "cell_type": "markdown",
   "metadata": {},
   "source": [
    "# Proyecto: Análisis mercado inmobiliario de la Ciudad de Buenos Aires"
   ]
  },
  {
   "cell_type": "markdown",
   "metadata": {},
   "source": [
    "## El dataset: propiedades en venta en Ciudad de Buenos Aires."
   ]
  },
  {
   "cell_type": "markdown",
   "metadata": {},
   "source": [
    "For this project, i'll be working with a sample of data contained in [Properati](www.properati.com.ar) published dataset. Each row represents a property for sale.\n",
    "\n",
    "## Los atributos\n",
    "A continuación vamos a describir los atributos que consideramos en esta muestra:\n",
    "\n",
    "* **id**: id de la propiedad\n",
    "* **created_on**: fecha en la que la propiedad ingresó al sitio\n",
    "* **operation**: alquiler (rent) o venta (sell)\n",
    "* **property_type**: tipo de propiedad (casa, departamento, ph, etcétera)\n",
    "* **place_with_parent_names**: nombre del lugar donde se encuentra la propiedad según el publicador\n",
    "* **lat-lon**: coordenadas concatenadas\n",
    "* **lat**: latitud\n",
    "* **lon**: longitud\n",
    "* **price**: precio en la moneda especificada en currency\n",
    "* **currency**: divisa en la que está expresada la publicación\n",
    "* **price_aprox_usd**: precio aproximado en dólares estadounidenses\n",
    "* **surface_total_in_m2**: superficie total (en metros cuadrados)\n",
    "* **surface_covered_in_m2**: superficie cubierta (en metros cuadrados)\n",
    "* **price_usd_per_m2**: precio por metro cuadrado en dólares (precio dólares / superficie)\n",
    "* **floor**: número de piso (si corresponde)\n",
    "* **rooms**: cantidad de ambientes\n",
    "* **expenses**: expensas (si corresponde)\n",
    "* **barrio**: barrio según cartografía oficial\n",
    "* **properati_url**: url de la publicación en Properati\n"
   ]
  },
  {
   "cell_type": "markdown",
   "metadata": {},
   "source": [
    "## Importing Libs\n",
    "\n",
    "Para poder trabajar en la limpieza de datos y la visualización de nuestro dataset vamos a utilizar las bibliotecas numpy, pandas, matplotlib.pylab y seaborn. \n",
    "\n",
    "- **numpy** como **np**\n",
    "- **pandas** como **pd**\n",
    "- **matplotlib.pylab** como **plt**\n",
    "- **seaborn** como **sns**\n"
   ]
  },
  {
   "cell_type": "code",
   "execution_count": 1,
   "metadata": {},
   "outputs": [],
   "source": [
    "import numpy as np\n",
    "import pandas as pd\n",
    "import matplotlib.pylab as plt\n",
    "import seaborn as sns"
   ]
  },
  {
   "cell_type": "code",
   "execution_count": 2,
   "metadata": {},
   "outputs": [],
   "source": [
    "# This is the setting I chose to use for fig. size and working inside Jupyter Notebook \n",
    "%matplotlib inline\n",
    "plt.rcParams['figure.figsize'] = (12,8)\n",
    "pd.set_option('max_columns', 120)\n",
    "pd.set_option('max_colwidth', 5000)\n"
   ]
  },
  {
   "cell_type": "markdown",
   "metadata": {},
   "source": [
    "## Loading properati dataset\n"
   ]
  },
  {
   "cell_type": "code",
   "execution_count": 4,
   "metadata": {},
   "outputs": [
    {
     "data": {
      "text/html": [
       "<div>\n",
       "<style scoped>\n",
       "    .dataframe tbody tr th:only-of-type {\n",
       "        vertical-align: middle;\n",
       "    }\n",
       "\n",
       "    .dataframe tbody tr th {\n",
       "        vertical-align: top;\n",
       "    }\n",
       "\n",
       "    .dataframe thead th {\n",
       "        text-align: right;\n",
       "    }\n",
       "</style>\n",
       "<table border=\"1\" class=\"dataframe\">\n",
       "  <thead>\n",
       "    <tr style=\"text-align: right;\">\n",
       "      <th></th>\n",
       "      <th>created_on</th>\n",
       "      <th>operation</th>\n",
       "      <th>property_type</th>\n",
       "      <th>place_with_parent_names</th>\n",
       "      <th>lat-lon</th>\n",
       "      <th>lat</th>\n",
       "      <th>lon</th>\n",
       "      <th>price_aprox_usd</th>\n",
       "      <th>surface_total_in_m2</th>\n",
       "      <th>surface_covered_in_m2</th>\n",
       "      <th>price_usd_per_m2</th>\n",
       "      <th>floor</th>\n",
       "      <th>rooms</th>\n",
       "      <th>expenses</th>\n",
       "      <th>properati_url</th>\n",
       "      <th>barrio</th>\n",
       "      <th>comuna</th>\n",
       "    </tr>\n",
       "  </thead>\n",
       "  <tbody>\n",
       "    <tr>\n",
       "      <th>0</th>\n",
       "      <td>2017-09-22</td>\n",
       "      <td>sell</td>\n",
       "      <td>house</td>\n",
       "      <td>|Argentina|Capital Federal|Palermo|Palermo Viejo|</td>\n",
       "      <td>-34.5889531469,-58.4298817776</td>\n",
       "      <td>-34.588953</td>\n",
       "      <td>-58.429882</td>\n",
       "      <td>2000000.0</td>\n",
       "      <td>312.0</td>\n",
       "      <td>NaN</td>\n",
       "      <td>6410.256410</td>\n",
       "      <td>NaN</td>\n",
       "      <td>NaN</td>\n",
       "      <td>NaN</td>\n",
       "      <td>https://www.properati.com.ar/2os_venta_casa_palermo-viejo_rent-ba</td>\n",
       "      <td>PALERMO</td>\n",
       "      <td>14.0</td>\n",
       "    </tr>\n",
       "    <tr>\n",
       "      <th>1</th>\n",
       "      <td>2017-08-01</td>\n",
       "      <td>sell</td>\n",
       "      <td>store</td>\n",
       "      <td>|Argentina|Capital Federal|Palermo|</td>\n",
       "      <td>-34.586069,-58.414431</td>\n",
       "      <td>-34.586069</td>\n",
       "      <td>-58.414431</td>\n",
       "      <td>790000.0</td>\n",
       "      <td>121.0</td>\n",
       "      <td>121.0</td>\n",
       "      <td>6528.925620</td>\n",
       "      <td>NaN</td>\n",
       "      <td>NaN</td>\n",
       "      <td>NaN</td>\n",
       "      <td>https://www.properati.com.ar/1cl7l_venta_local_palermo_santa-fe-av-al-3500_sotano_garage_subte-linea-d_deptos-temporarios</td>\n",
       "      <td>PALERMO</td>\n",
       "      <td>14.0</td>\n",
       "    </tr>\n",
       "    <tr>\n",
       "      <th>2</th>\n",
       "      <td>2017-08-02</td>\n",
       "      <td>sell</td>\n",
       "      <td>store</td>\n",
       "      <td>|Argentina|Capital Federal|Palermo|Palermo Soho|</td>\n",
       "      <td>-34.589723,-58.4325664</td>\n",
       "      <td>-34.589723</td>\n",
       "      <td>-58.432566</td>\n",
       "      <td>343000.0</td>\n",
       "      <td>122.0</td>\n",
       "      <td>108.0</td>\n",
       "      <td>2811.475410</td>\n",
       "      <td>NaN</td>\n",
       "      <td>2.0</td>\n",
       "      <td>NaN</td>\n",
       "      <td>https://www.properati.com.ar/1cm8w_venta_local_palermo-soho_cabrera-jose-a-_5000_jardin_lavadero_patio_piscina_toilette_garage_ojo-propiedades</td>\n",
       "      <td>PALERMO</td>\n",
       "      <td>14.0</td>\n",
       "    </tr>\n",
       "    <tr>\n",
       "      <th>3</th>\n",
       "      <td>2017-08-03</td>\n",
       "      <td>sell</td>\n",
       "      <td>store</td>\n",
       "      <td>|Argentina|Capital Federal|Palermo|</td>\n",
       "      <td>-34.5923646,-58.4144028</td>\n",
       "      <td>-34.592365</td>\n",
       "      <td>-58.414403</td>\n",
       "      <td>145000.0</td>\n",
       "      <td>24.0</td>\n",
       "      <td>24.0</td>\n",
       "      <td>6041.666667</td>\n",
       "      <td>NaN</td>\n",
       "      <td>NaN</td>\n",
       "      <td>NaN</td>\n",
       "      <td>https://www.properati.com.ar/1covk_venta_local_palermo_paraguay-al-3500_subte-linea-d_brick-propiedades-local-alto-palermo</td>\n",
       "      <td>PALERMO</td>\n",
       "      <td>14.0</td>\n",
       "    </tr>\n",
       "    <tr>\n",
       "      <th>4</th>\n",
       "      <td>2017-08-08</td>\n",
       "      <td>sell</td>\n",
       "      <td>store</td>\n",
       "      <td>|Argentina|Capital Federal|Barrio Norte|</td>\n",
       "      <td>-34.585652875,-58.4114933233</td>\n",
       "      <td>-34.585653</td>\n",
       "      <td>-58.411493</td>\n",
       "      <td>175000.0</td>\n",
       "      <td>24.0</td>\n",
       "      <td>24.0</td>\n",
       "      <td>7291.666667</td>\n",
       "      <td>NaN</td>\n",
       "      <td>NaN</td>\n",
       "      <td>NaN</td>\n",
       "      <td>https://www.properati.com.ar/1csk7_venta_local_barrio-norte_subte-linea-d_aranalfe_e1j</td>\n",
       "      <td>PALERMO</td>\n",
       "      <td>14.0</td>\n",
       "    </tr>\n",
       "  </tbody>\n",
       "</table>\n",
       "</div>"
      ],
      "text/plain": [
       "  created_on operation property_type  \\\n",
       "0 2017-09-22      sell         house   \n",
       "1 2017-08-01      sell         store   \n",
       "2 2017-08-02      sell         store   \n",
       "3 2017-08-03      sell         store   \n",
       "4 2017-08-08      sell         store   \n",
       "\n",
       "                             place_with_parent_names  \\\n",
       "0  |Argentina|Capital Federal|Palermo|Palermo Viejo|   \n",
       "1                |Argentina|Capital Federal|Palermo|   \n",
       "2   |Argentina|Capital Federal|Palermo|Palermo Soho|   \n",
       "3                |Argentina|Capital Federal|Palermo|   \n",
       "4           |Argentina|Capital Federal|Barrio Norte|   \n",
       "\n",
       "                         lat-lon        lat        lon  price_aprox_usd  \\\n",
       "0  -34.5889531469,-58.4298817776 -34.588953 -58.429882        2000000.0   \n",
       "1          -34.586069,-58.414431 -34.586069 -58.414431         790000.0   \n",
       "2         -34.589723,-58.4325664 -34.589723 -58.432566         343000.0   \n",
       "3        -34.5923646,-58.4144028 -34.592365 -58.414403         145000.0   \n",
       "4   -34.585652875,-58.4114933233 -34.585653 -58.411493         175000.0   \n",
       "\n",
       "   surface_total_in_m2  surface_covered_in_m2  price_usd_per_m2  floor  rooms  \\\n",
       "0                312.0                    NaN       6410.256410    NaN    NaN   \n",
       "1                121.0                  121.0       6528.925620    NaN    NaN   \n",
       "2                122.0                  108.0       2811.475410    NaN    2.0   \n",
       "3                 24.0                   24.0       6041.666667    NaN    NaN   \n",
       "4                 24.0                   24.0       7291.666667    NaN    NaN   \n",
       "\n",
       "   expenses  \\\n",
       "0       NaN   \n",
       "1       NaN   \n",
       "2       NaN   \n",
       "3       NaN   \n",
       "4       NaN   \n",
       "\n",
       "                                                                                                                                    properati_url  \\\n",
       "0                                                                               https://www.properati.com.ar/2os_venta_casa_palermo-viejo_rent-ba   \n",
       "1                       https://www.properati.com.ar/1cl7l_venta_local_palermo_santa-fe-av-al-3500_sotano_garage_subte-linea-d_deptos-temporarios   \n",
       "2  https://www.properati.com.ar/1cm8w_venta_local_palermo-soho_cabrera-jose-a-_5000_jardin_lavadero_patio_piscina_toilette_garage_ojo-propiedades   \n",
       "3                      https://www.properati.com.ar/1covk_venta_local_palermo_paraguay-al-3500_subte-linea-d_brick-propiedades-local-alto-palermo   \n",
       "4                                                          https://www.properati.com.ar/1csk7_venta_local_barrio-norte_subte-linea-d_aranalfe_e1j   \n",
       "\n",
       "    barrio  comuna  \n",
       "0  PALERMO    14.0  \n",
       "1  PALERMO    14.0  \n",
       "2  PALERMO    14.0  \n",
       "3  PALERMO    14.0  \n",
       "4  PALERMO    14.0  "
      ]
     },
     "execution_count": 4,
     "metadata": {},
     "output_type": "execute_result"
    }
   ],
   "source": [
    "df = pd.read_csv(\"https://raw.githubusercontent.com/emadiogo/Data-Science-Portfolio/master/datos_properati.csv\", parse_dates=['created_on'])\n",
    "df.head()"
   ]
  },
  {
   "cell_type": "markdown",
   "metadata": {},
   "source": [
    "## Exploring data"
   ]
  },
  {
   "cell_type": "markdown",
   "metadata": {},
   "source": [
    "I chose to `shape` to analize the amount of instances and attributes that I will work with."
   ]
  },
  {
   "cell_type": "code",
   "execution_count": 5,
   "metadata": {},
   "outputs": [
    {
     "name": "stdout",
     "output_type": "stream",
     "text": [
      "(18979, 17)\n"
     ]
    }
   ],
   "source": [
    "print(df.shape)"
   ]
  },
  {
   "cell_type": "markdown",
   "metadata": {},
   "source": [
    "## Property Categories\n",
    "\n",
    "First, i will investigate on which categories exists in `property_type` and how many of each this dataset posess."
   ]
  },
  {
   "cell_type": "code",
   "execution_count": 6,
   "metadata": {},
   "outputs": [
    {
     "data": {
      "text/plain": [
       "apartment    14807\n",
       "house         1618\n",
       "PH            1463\n",
       "store         1091\n",
       "Name: property_type, dtype: int64"
      ]
     },
     "execution_count": 6,
     "metadata": {},
     "output_type": "execute_result"
    }
   ],
   "source": [
    "df.property_type.value_counts()"
   ]
  },
  {
   "cell_type": "markdown",
   "metadata": {},
   "source": [
    "### Filtering Categories\n",
    "\n",
    "For the analysis, I will filter only those that are houses, apartments and PHs into a new dataset. "
   ]
  },
  {
   "cell_type": "code",
   "execution_count": 7,
   "metadata": {},
   "outputs": [
    {
     "data": {
      "text/html": [
       "<div>\n",
       "<style scoped>\n",
       "    .dataframe tbody tr th:only-of-type {\n",
       "        vertical-align: middle;\n",
       "    }\n",
       "\n",
       "    .dataframe tbody tr th {\n",
       "        vertical-align: top;\n",
       "    }\n",
       "\n",
       "    .dataframe thead th {\n",
       "        text-align: right;\n",
       "    }\n",
       "</style>\n",
       "<table border=\"1\" class=\"dataframe\">\n",
       "  <thead>\n",
       "    <tr style=\"text-align: right;\">\n",
       "      <th></th>\n",
       "      <th>created_on</th>\n",
       "      <th>operation</th>\n",
       "      <th>property_type</th>\n",
       "      <th>place_with_parent_names</th>\n",
       "      <th>lat-lon</th>\n",
       "      <th>lat</th>\n",
       "      <th>lon</th>\n",
       "      <th>price_aprox_usd</th>\n",
       "      <th>surface_total_in_m2</th>\n",
       "      <th>surface_covered_in_m2</th>\n",
       "      <th>price_usd_per_m2</th>\n",
       "      <th>floor</th>\n",
       "      <th>rooms</th>\n",
       "      <th>expenses</th>\n",
       "      <th>properati_url</th>\n",
       "      <th>barrio</th>\n",
       "      <th>comuna</th>\n",
       "    </tr>\n",
       "  </thead>\n",
       "  <tbody>\n",
       "    <tr>\n",
       "      <th>0</th>\n",
       "      <td>2017-09-22</td>\n",
       "      <td>sell</td>\n",
       "      <td>house</td>\n",
       "      <td>|Argentina|Capital Federal|Palermo|Palermo Viejo|</td>\n",
       "      <td>-34.5889531469,-58.4298817776</td>\n",
       "      <td>-34.588953</td>\n",
       "      <td>-58.429882</td>\n",
       "      <td>2000000.0</td>\n",
       "      <td>312.0</td>\n",
       "      <td>NaN</td>\n",
       "      <td>6410.256410</td>\n",
       "      <td>NaN</td>\n",
       "      <td>NaN</td>\n",
       "      <td>NaN</td>\n",
       "      <td>https://www.properati.com.ar/2os_venta_casa_palermo-viejo_rent-ba</td>\n",
       "      <td>PALERMO</td>\n",
       "      <td>14.0</td>\n",
       "    </tr>\n",
       "    <tr>\n",
       "      <th>18</th>\n",
       "      <td>2017-08-29</td>\n",
       "      <td>sell</td>\n",
       "      <td>apartment</td>\n",
       "      <td>|Argentina|Capital Federal|Palermo|</td>\n",
       "      <td>-34.588912403,-58.4134942185</td>\n",
       "      <td>-34.588912</td>\n",
       "      <td>-58.413494</td>\n",
       "      <td>340000.0</td>\n",
       "      <td>130.0</td>\n",
       "      <td>120.0</td>\n",
       "      <td>2615.384615</td>\n",
       "      <td>NaN</td>\n",
       "      <td>4.0</td>\n",
       "      <td>8000.0</td>\n",
       "      <td>https://www.properati.com.ar/1dzv6_venta_departamento_palermo_guemes_3600_balcon_suite_jardin_lavadero_luminoso_lujoso_dependencias_placard_doble-circulacion_subte-linea-d_luisio-propiedades-suc-virrey-del-pino-2378</td>\n",
       "      <td>PALERMO</td>\n",
       "      <td>14.0</td>\n",
       "    </tr>\n",
       "    <tr>\n",
       "      <th>19</th>\n",
       "      <td>2017-08-29</td>\n",
       "      <td>sell</td>\n",
       "      <td>apartment</td>\n",
       "      <td>|Argentina|Capital Federal|Palermo|</td>\n",
       "      <td>-34.5770327,-58.4233675</td>\n",
       "      <td>-34.577033</td>\n",
       "      <td>-58.423368</td>\n",
       "      <td>222000.0</td>\n",
       "      <td>52.0</td>\n",
       "      <td>48.0</td>\n",
       "      <td>4269.230769</td>\n",
       "      <td>NaN</td>\n",
       "      <td>1.0</td>\n",
       "      <td>NaN</td>\n",
       "      <td>https://www.properati.com.ar/1e05k_venta_departamento_palermo_juncal-al-4500_gimnasio_jardin_lavadero_parrilla_piscina_sum_aire-acondicionado_subte-linea-h_subte-linea-c_deptos-temporarios</td>\n",
       "      <td>PALERMO</td>\n",
       "      <td>14.0</td>\n",
       "    </tr>\n",
       "    <tr>\n",
       "      <th>20</th>\n",
       "      <td>2017-08-29</td>\n",
       "      <td>sell</td>\n",
       "      <td>apartment</td>\n",
       "      <td>|Argentina|Capital Federal|Palermo|</td>\n",
       "      <td>-34.5950139,-58.4273915</td>\n",
       "      <td>-34.595014</td>\n",
       "      <td>-58.427392</td>\n",
       "      <td>180000.0</td>\n",
       "      <td>70.0</td>\n",
       "      <td>70.0</td>\n",
       "      <td>2571.428571</td>\n",
       "      <td>NaN</td>\n",
       "      <td>NaN</td>\n",
       "      <td>3000.0</td>\n",
       "      <td>https://www.properati.com.ar/1e0mq_venta_departamento_palermo_julian-alvarez-al-1200_lavadero_amoblado_sanchez-carrizo-real-estate</td>\n",
       "      <td>PALERMO</td>\n",
       "      <td>14.0</td>\n",
       "    </tr>\n",
       "    <tr>\n",
       "      <th>22</th>\n",
       "      <td>2017-08-30</td>\n",
       "      <td>sell</td>\n",
       "      <td>house</td>\n",
       "      <td>|Argentina|Capital Federal|Palermo|Palermo Hollywood|</td>\n",
       "      <td>-34.5793535,-58.4364489</td>\n",
       "      <td>-34.579354</td>\n",
       "      <td>-58.436449</td>\n",
       "      <td>1200000.0</td>\n",
       "      <td>532.0</td>\n",
       "      <td>334.0</td>\n",
       "      <td>2255.639098</td>\n",
       "      <td>NaN</td>\n",
       "      <td>6.0</td>\n",
       "      <td>NaN</td>\n",
       "      <td>https://www.properati.com.ar/1e1ve_venta_casa_palermo-hollywood_jardin_lavadero_piscina_luminoso_vista_garage_nexo-propiedades_h0z</td>\n",
       "      <td>PALERMO</td>\n",
       "      <td>14.0</td>\n",
       "    </tr>\n",
       "  </tbody>\n",
       "</table>\n",
       "</div>"
      ],
      "text/plain": [
       "   created_on operation property_type  \\\n",
       "0  2017-09-22      sell         house   \n",
       "18 2017-08-29      sell     apartment   \n",
       "19 2017-08-29      sell     apartment   \n",
       "20 2017-08-29      sell     apartment   \n",
       "22 2017-08-30      sell         house   \n",
       "\n",
       "                                  place_with_parent_names  \\\n",
       "0       |Argentina|Capital Federal|Palermo|Palermo Viejo|   \n",
       "18                    |Argentina|Capital Federal|Palermo|   \n",
       "19                    |Argentina|Capital Federal|Palermo|   \n",
       "20                    |Argentina|Capital Federal|Palermo|   \n",
       "22  |Argentina|Capital Federal|Palermo|Palermo Hollywood|   \n",
       "\n",
       "                          lat-lon        lat        lon  price_aprox_usd  \\\n",
       "0   -34.5889531469,-58.4298817776 -34.588953 -58.429882        2000000.0   \n",
       "18   -34.588912403,-58.4134942185 -34.588912 -58.413494         340000.0   \n",
       "19        -34.5770327,-58.4233675 -34.577033 -58.423368         222000.0   \n",
       "20        -34.5950139,-58.4273915 -34.595014 -58.427392         180000.0   \n",
       "22        -34.5793535,-58.4364489 -34.579354 -58.436449        1200000.0   \n",
       "\n",
       "    surface_total_in_m2  surface_covered_in_m2  price_usd_per_m2  floor  \\\n",
       "0                 312.0                    NaN       6410.256410    NaN   \n",
       "18                130.0                  120.0       2615.384615    NaN   \n",
       "19                 52.0                   48.0       4269.230769    NaN   \n",
       "20                 70.0                   70.0       2571.428571    NaN   \n",
       "22                532.0                  334.0       2255.639098    NaN   \n",
       "\n",
       "    rooms  expenses  \\\n",
       "0     NaN       NaN   \n",
       "18    4.0    8000.0   \n",
       "19    1.0       NaN   \n",
       "20    NaN    3000.0   \n",
       "22    6.0       NaN   \n",
       "\n",
       "                                                                                                                                                                                                              properati_url  \\\n",
       "0                                                                                                                                                         https://www.properati.com.ar/2os_venta_casa_palermo-viejo_rent-ba   \n",
       "18  https://www.properati.com.ar/1dzv6_venta_departamento_palermo_guemes_3600_balcon_suite_jardin_lavadero_luminoso_lujoso_dependencias_placard_doble-circulacion_subte-linea-d_luisio-propiedades-suc-virrey-del-pino-2378   \n",
       "19                             https://www.properati.com.ar/1e05k_venta_departamento_palermo_juncal-al-4500_gimnasio_jardin_lavadero_parrilla_piscina_sum_aire-acondicionado_subte-linea-h_subte-linea-c_deptos-temporarios   \n",
       "20                                                                                       https://www.properati.com.ar/1e0mq_venta_departamento_palermo_julian-alvarez-al-1200_lavadero_amoblado_sanchez-carrizo-real-estate   \n",
       "22                                                                                       https://www.properati.com.ar/1e1ve_venta_casa_palermo-hollywood_jardin_lavadero_piscina_luminoso_vista_garage_nexo-propiedades_h0z   \n",
       "\n",
       "     barrio  comuna  \n",
       "0   PALERMO    14.0  \n",
       "18  PALERMO    14.0  \n",
       "19  PALERMO    14.0  \n",
       "20  PALERMO    14.0  \n",
       "22  PALERMO    14.0  "
      ]
     },
     "execution_count": 7,
     "metadata": {},
     "output_type": "execute_result"
    }
   ],
   "source": [
    "df_filtered=df[(df.property_type == 'house') | (df.property_type == 'apartment') | (df.property_type == 'PH')]\n",
    "df_filtered.head()"
   ]
  },
  {
   "cell_type": "markdown",
   "metadata": {},
   "source": [
    "### Visualizing Categories\n"
   ]
  },
  {
   "cell_type": "code",
   "execution_count": 8,
   "metadata": {},
   "outputs": [
    {
     "name": "stderr",
     "output_type": "stream",
     "text": [
      "G:\\Anaconda\\envs\\Prueba\\lib\\site-packages\\seaborn\\_decorators.py:36: FutureWarning: Pass the following variable as a keyword arg: x. From version 0.12, the only valid positional argument will be `data`, and passing other arguments without an explicit keyword will result in an error or misinterpretation.\n",
      "  warnings.warn(\n"
     ]
    },
    {
     "data": {
      "text/plain": [
       "<AxesSubplot:xlabel='property_type', ylabel='count'>"
      ]
     },
     "execution_count": 8,
     "metadata": {},
     "output_type": "execute_result"
    },
    {
     "data": {
      "image/png": "[encoded data removed]",
      "text/plain": [
       "<Figure size 864x576 with 1 Axes>"
      ]
     },
     "metadata": {
      "needs_background": "light"
     },
     "output_type": "display_data"
    }
   ],
   "source": [
    "sns.countplot(df_filtered.property_type)"
   ]
  },
  {
   "cell_type": "markdown",
   "metadata": {},
   "source": [
    "## Null Values"
   ]
  },
  {
   "cell_type": "markdown",
   "metadata": {},
   "source": [
    "I tried discarding those instances that have any null values on key columns for my analysis\n",
    "\n",
    "The columns that I consider to be key are \"surface\"(both total and covered), \"rooms\" and \"price\"\n"
   ]
  },
  {
   "cell_type": "code",
   "execution_count": 9,
   "metadata": {},
   "outputs": [
    {
     "name": "stderr",
     "output_type": "stream",
     "text": [
      "<ipython-input-9-f8e726693eb5>:1: SettingWithCopyWarning: \n",
      "A value is trying to be set on a copy of a slice from a DataFrame\n",
      "\n",
      "See the caveats in the documentation: https://pandas.pydata.org/pandas-docs/stable/user_guide/indexing.html#returning-a-view-versus-a-copy\n",
      "  df_filtered.dropna(subset=['price_aprox_usd','price_usd_per_m2', 'surface_total_in_m2', 'surface_covered_in_m2','rooms'], inplace=True)\n"
     ]
    },
    {
     "data": {
      "text/plain": [
       "created_on                     0\n",
       "operation                      0\n",
       "property_type                  0\n",
       "place_with_parent_names        0\n",
       "lat-lon                        0\n",
       "lat                            0\n",
       "lon                            0\n",
       "price_aprox_usd                0\n",
       "surface_total_in_m2            0\n",
       "surface_covered_in_m2          0\n",
       "price_usd_per_m2               0\n",
       "floor                      10112\n",
       "rooms                          0\n",
       "expenses                    9703\n",
       "properati_url                  0\n",
       "barrio                         0\n",
       "comuna                         0\n",
       "dtype: int64"
      ]
     },
     "execution_count": 9,
     "metadata": {},
     "output_type": "execute_result"
    }
   ],
   "source": [
    "df_filtered.dropna(subset=['price_aprox_usd','price_usd_per_m2', 'surface_total_in_m2', 'surface_covered_in_m2','rooms'], inplace=True)\n",
    "df_filtered.isna().sum()"
   ]
  },
  {
   "cell_type": "markdown",
   "metadata": {},
   "source": [
    "Just to go deeper into the analysis, I tried to see how many instances I discarded."
   ]
  },
  {
   "cell_type": "code",
   "execution_count": 12,
   "metadata": {},
   "outputs": [
    {
     "name": "stdout",
     "output_type": "stream",
     "text": [
      "Base Instances: 18979\n",
      "Instances with null values on key columns: 11975\n",
      "Discarded Instances: 7004\n"
     ]
    }
   ],
   "source": [
    "# Mostrá en esta celda la cantidad de instancias descartadas a partir de sacar valores nulos\n",
    "print('Base Instances:', df.shape[0])\n",
    "print('Instances with null values on key columns:',df_filtered.shape[0])\n",
    "print('Discarded Instances:', df.shape[0]-df_filtered.shape[0])"
   ]
  },
  {
   "cell_type": "markdown",
   "metadata": {},
   "source": [
    "Now I tried to take a look into which other columns I still have null values"
   ]
  },
  {
   "cell_type": "code",
   "execution_count": 11,
   "metadata": {},
   "outputs": [
    {
     "data": {
      "text/plain": [
       "created_on                     0\n",
       "operation                      0\n",
       "property_type                  0\n",
       "place_with_parent_names        0\n",
       "lat-lon                        0\n",
       "lat                            0\n",
       "lon                            0\n",
       "price_aprox_usd                0\n",
       "surface_total_in_m2            0\n",
       "surface_covered_in_m2          0\n",
       "price_usd_per_m2               0\n",
       "floor                      10112\n",
       "rooms                          0\n",
       "expenses                    9703\n",
       "properati_url                  0\n",
       "barrio                         0\n",
       "comuna                         0\n",
       "dtype: int64"
      ]
     },
     "execution_count": 11,
     "metadata": {},
     "output_type": "execute_result"
    }
   ],
   "source": [
    "df_filtered.isna().sum()"
   ]
  },
  {
   "cell_type": "markdown",
   "metadata": {},
   "source": [
    "## Bad Data"
   ]
  },
  {
   "cell_type": "markdown",
   "metadata": {},
   "source": [
    "Then, I tried to look for any data errors that might be on the dataset.\n",
    "\n",
    "The major thing I could find is that some property had a total surface that is lower to covered surface, which of course can't be."
   ]
  },
  {
   "cell_type": "code",
   "execution_count": 13,
   "metadata": {},
   "outputs": [
    {
     "name": "stdout",
     "output_type": "stream",
     "text": [
      "Instances with total surface lower than covered surface are 73\n"
     ]
    }
   ],
   "source": [
    "wrong_surface_rows=df_filtered[df_filtered.surface_total_in_m2<df_filtered.surface_covered_in_m2]\n",
    "print('Instances with total surface lower than covered surface are', wrong_surface_rows.shape[0])"
   ]
  },
  {
   "cell_type": "markdown",
   "metadata": {},
   "source": [
    "To fix this, I altered the values. For these instances, I exchanged surface total for surface covered. "
   ]
  },
  {
   "cell_type": "code",
   "execution_count": 15,
   "metadata": {},
   "outputs": [],
   "source": [
    "df_filtered.at[wrong_surface_rows.index, 'surface_total_in_m2'] = wrong_surface_rows.surface_covered_in_m2\n",
    "df_filtered.at[wrong_surface_rows.index, 'surface_covered_in_m2'] = wrong_surface_rows.surface_total_in_m2"
   ]
  },
  {
   "cell_type": "markdown",
   "metadata": {},
   "source": [
    "I also read that real state agents use standarized coordinates when they dont have the accurate coordinates for the listings. So I tried to look for any repeated coordinate in the remaining listings."
   ]
  },
  {
   "cell_type": "code",
   "execution_count": 17,
   "metadata": {},
   "outputs": [
    {
     "data": {
      "text/plain": [
       "lat         lon       \n",
       "-34.589546  -58.397364    149\n",
       "-34.571150  -58.423297    118\n",
       "-34.562084  -58.456686     77\n",
       "-34.620928  -58.445874     45\n",
       "-34.609821  -58.392606     36\n",
       "-34.597679  -58.443019     31\n",
       "-34.617719  -58.362056     31\n",
       "-34.621184  -58.373116     31\n",
       "-34.610122  -58.405941     31\n",
       "-34.598647  -58.439018     29\n",
       "dtype: int64"
      ]
     },
     "execution_count": 17,
     "metadata": {},
     "output_type": "execute_result"
    }
   ],
   "source": [
    "coordinates_count = df_filtered.groupby(['lat', 'lon']).size()\n",
    "coordinates_count[coordinates_count > 1].sort_values(ascending=False).head(10)"
   ]
  },
  {
   "cell_type": "markdown",
   "metadata": {},
   "source": [
    "What i decided to do is to only take into consideration those listings whose coordinates repeat up to 5 times max, in order to be as accurate as possible. "
   ]
  },
  {
   "cell_type": "code",
   "execution_count": 19,
   "metadata": {},
   "outputs": [],
   "source": [
    "coordinates_count.name = 'conteo'\n",
    "\n",
    "df_filtered = df_filtered.join(coordinates_count, on=['lat', 'lon'])\n",
    "\n",
    "df_filtered = df_filtered[df_filtered.conteo <= 5]"
   ]
  },
  {
   "cell_type": "markdown",
   "metadata": {},
   "source": [
    "Now I drop attribute `conteo` because it is no longer useful."
   ]
  },
  {
   "cell_type": "code",
   "execution_count": 16,
   "metadata": {},
   "outputs": [],
   "source": [
    "df_filtered.drop('conteo', inplace=True, axis=1)"
   ]
  },
  {
   "cell_type": "markdown",
   "metadata": {},
   "source": [
    "## Analyzing Barrios (Neighborhoods)"
   ]
  },
  {
   "cell_type": "markdown",
   "metadata": {},
   "source": [
    "### Which neighborhoods has the most houses / apartments\n",
    "\n",
    "To go deeper into my investigation, i had to know which neightborhoods had the most apartments and houses for sale. "
   ]
  },
  {
   "cell_type": "code",
   "execution_count": 20,
   "metadata": {},
   "outputs": [],
   "source": [
    "#% of properties based on the neighborhood\n",
    "total_properties = df_filtered.groupby('barrio')['property_type'].count().values"
   ]
  },
  {
   "cell_type": "code",
   "execution_count": 21,
   "metadata": {},
   "outputs": [],
   "source": [
    "percentage_houses_ph = df_filtered[df_filtered.property_type.isin(['PH', 'house'])].groupby('barrio').count().property_type/total_properties\n",
    "percentage_apartments = df_filtered[df_filtered.property_type == 'apartment'].groupby('barrio').count().property_type/total_properties"
   ]
  },
  {
   "cell_type": "code",
   "execution_count": 24,
   "metadata": {},
   "outputs": [
    {
     "name": "stdout",
     "output_type": "stream",
     "text": [
      "Barrios with higher percentage of apartments: \n",
      " barrio\n",
      "PUERTO MADERO    0.995238\n",
      "RETIRO           0.992647\n",
      "SAN NICOLAS      0.989011\n",
      "RECOLETA         0.987342\n",
      "BELGRANO         0.952446\n",
      "Name: property_type, dtype: float64\n",
      "Barrios with higher percentage of houses and phs: \n",
      "  barrio\n",
      "VERSALLES            0.622222\n",
      "MATADEROS            0.612500\n",
      "PARQUE AVELLANEDA    0.560606\n",
      "VILLA RIACHUELO      0.555556\n",
      "VILLA REAL           0.500000\n",
      "Name: property_type, dtype: float64\n"
     ]
    }
   ],
   "source": [
    "print(\"Barrios with higher percentage of apartments: \\n\", percentage_apartments.sort_values()[::-1][:5])\n",
    "print(\"Barrios with higher percentage of houses and phs: \\n \", percentage_houses_ph.sort_values()[::-1][:5])"
   ]
  },
  {
   "cell_type": "markdown",
   "metadata": {},
   "source": [
    "Only by this first classification, it is possible to understand the difference in construction types in these Barrios. As following:"
   ]
  },
  {
   "cell_type": "code",
   "execution_count": 25,
   "metadata": {},
   "outputs": [
    {
     "data": {
      "text/plain": [
       "<AxesSubplot:ylabel='property_type'>"
      ]
     },
     "execution_count": 25,
     "metadata": {},
     "output_type": "execute_result"
    },
    {
     "data": {
      "image/png": "[encoded data removed]",
      "text/plain": [
       "<Figure size 1008x504 with 2 Axes>"
      ]
     },
     "metadata": {},
     "output_type": "display_data"
    }
   ],
   "source": [
    "barrios_houses = percentage_houses_ph.sort_values()[::-1][:5].index\n",
    "barrios_apartments = percentage_apartments.sort_values()[::-1][:5].index\n",
    "fig, axs = plt.subplots(1,2,figsize=(14,7))\n",
    "df_filtered[df_filtered.barrio.isin(barrios_apartments)].property_type.value_counts().plot(x=None,y=None, kind='pie', startangle=30, ax=axs[0],autopct='%1.2f%%')\n",
    "df_filtered[df_filtered.barrio.isin(barrios_houses)].property_type.value_counts().plot(x=None,y=None, kind='pie', ax=axs[1],autopct='%1.2f%%')"
   ]
  },
  {
   "cell_type": "markdown",
   "metadata": {},
   "source": [
    "### Cheaper and Expensive Barrios"
   ]
  },
  {
   "cell_type": "markdown",
   "metadata": {},
   "source": [
    "In order to do some further analysis on the price per square meter, I'll performe some basic statistics on the price distribution throughout the whole dataset and see if I need to correct any extreme values."
   ]
  },
  {
   "cell_type": "code",
   "execution_count": 28,
   "metadata": {},
   "outputs": [
    {
     "name": "stdout",
     "output_type": "stream",
     "text": [
      "Min: 0.9583333333333334\n",
      "Max: 142450.14102564106\n",
      "Mean: 2785.6551438537\n",
      "Median: 2588.2352941176473\n",
      "Std: 1997.7721743224854\n",
      "First Quantile: 2039.2899147309618\n",
      "Third Quantile: 3203.982563899346\n",
      "IQR: 1164.6926491683844\n"
     ]
    }
   ],
   "source": [
    "print('Min:', df_filtered.price_usd_per_m2.min())\n",
    "print('Max:',df_filtered.price_usd_per_m2.max())\n",
    "print('Mean:',df_filtered.price_usd_per_m2.mean())\n",
    "print('Median:',df_filtered.price_usd_per_m2.median())\n",
    "print('Std:',df_filtered.price_usd_per_m2.std())\n",
    "\n",
    "print('First Quantile:' ,df_filtered.price_usd_per_m2.quantile(0.25))\n",
    "print('Third Quantile:' ,df_filtered.price_usd_per_m2.quantile(0.75))\n",
    "print('IQR:',df_filtered.price_usd_per_m2.quantile(0.75)-df_filtered.price_usd_per_m2.quantile(0.25))\n"
   ]
  },
  {
   "cell_type": "markdown",
   "metadata": {},
   "source": [
    "### Removing extreme values\n",
    "\n",
    "I decided to remove any instance that exceeds the 10th and 90th percentile to get a better sense of the data."
   ]
  },
  {
   "cell_type": "code",
   "execution_count": 29,
   "metadata": {},
   "outputs": [],
   "source": [
    "p10 = np.percentile(df_filtered.price_usd_per_m2, 10)\n",
    "p90 = np.percentile(df_filtered.price_usd_per_m2, 90)\n",
    "df_filtered = df_filtered[(df_filtered.price_usd_per_m2 >= p10) & (df_filtered.price_usd_per_m2 <= p90)]"
   ]
  },
  {
   "cell_type": "markdown",
   "metadata": {},
   "source": [
    "Run statistics again:"
   ]
  },
  {
   "cell_type": "code",
   "execution_count": 30,
   "metadata": {},
   "outputs": [
    {
     "name": "stdout",
     "output_type": "stream",
     "text": [
      "Min: 1552.9411764705883\n",
      "Max: 4095.890410958904\n",
      "Mean: 2632.21256869184\n",
      "Median: 2588.2352941176473\n",
      "Std: 607.715138590648\n",
      "First Quantile: 2150.7936507936506\n",
      "Third Quantile: 3057.142857142857\n",
      "IQR: 906.3492063492063\n"
     ]
    }
   ],
   "source": [
    "# Realizá los calculos en esta celda\n",
    "print('Min:', df_filtered.price_usd_per_m2.min())\n",
    "print('Max:',df_filtered.price_usd_per_m2.max())\n",
    "print('Mean:',df_filtered.price_usd_per_m2.mean())\n",
    "print('Median:',df_filtered.price_usd_per_m2.median())\n",
    "print('Std:',df_filtered.price_usd_per_m2.std())\n",
    "\n",
    "print('First Quantile:' ,df_filtered.price_usd_per_m2.quantile(0.25))\n",
    "print('Third Quantile:' ,df_filtered.price_usd_per_m2.quantile(0.75))\n",
    "print('IQR:',df_filtered.price_usd_per_m2.quantile(0.75)-df_filtered.price_usd_per_m2.quantile(0.25))"
   ]
  },
  {
   "cell_type": "markdown",
   "metadata": {},
   "source": [
    "**MUCH BETTER**\n"
   ]
  },
  {
   "cell_type": "markdown",
   "metadata": {},
   "source": [
    "Now, I'll use a barplot to chart the price per m2 for each Barrio:"
   ]
  },
  {
   "cell_type": "code",
   "execution_count": 31,
   "metadata": {},
   "outputs": [
    {
     "data": {
      "image/png": "[encoded data removed]",
      "text/plain": [
       "<Figure size 864x576 with 1 Axes>"
      ]
     },
     "metadata": {
      "needs_background": "light"
     },
     "output_type": "display_data"
    }
   ],
   "source": [
    "plt.xticks(rotation = 90)\n",
    "barrios = df_filtered.groupby('barrio').mean().sort_values('price_usd_per_m2', ascending=False).index\n",
    "sns.barplot(x=\"barrio\", y=\"price_usd_per_m2\", order=barrios, data=df_filtered);"
   ]
  },
  {
   "cell_type": "markdown",
   "metadata": {},
   "source": [
    "#### More Expensive Barrios"
   ]
  },
  {
   "cell_type": "code",
   "execution_count": 37,
   "metadata": {},
   "outputs": [
    {
     "data": {
      "text/html": [
       "<div>\n",
       "<style scoped>\n",
       "    .dataframe tbody tr th:only-of-type {\n",
       "        vertical-align: middle;\n",
       "    }\n",
       "\n",
       "    .dataframe tbody tr th {\n",
       "        vertical-align: top;\n",
       "    }\n",
       "\n",
       "    .dataframe thead th {\n",
       "        text-align: right;\n",
       "    }\n",
       "</style>\n",
       "<table border=\"1\" class=\"dataframe\">\n",
       "  <thead>\n",
       "    <tr style=\"text-align: right;\">\n",
       "      <th></th>\n",
       "      <th>price_usd_per_m2</th>\n",
       "    </tr>\n",
       "    <tr>\n",
       "      <th>barrio</th>\n",
       "      <th></th>\n",
       "    </tr>\n",
       "  </thead>\n",
       "  <tbody>\n",
       "    <tr>\n",
       "      <th>PUERTO MADERO</th>\n",
       "      <td>6156.633183</td>\n",
       "    </tr>\n",
       "    <tr>\n",
       "      <th>PALERMO</th>\n",
       "      <td>3632.057960</td>\n",
       "    </tr>\n",
       "    <tr>\n",
       "      <th>RETIRO</th>\n",
       "      <td>3417.635657</td>\n",
       "    </tr>\n",
       "    <tr>\n",
       "      <th>RECOLETA</th>\n",
       "      <td>3346.748987</td>\n",
       "    </tr>\n",
       "    <tr>\n",
       "      <th>BELGRANO</th>\n",
       "      <td>3338.725206</td>\n",
       "    </tr>\n",
       "  </tbody>\n",
       "</table>\n",
       "</div>"
      ],
      "text/plain": [
       "               price_usd_per_m2\n",
       "barrio                         \n",
       "PUERTO MADERO       6156.633183\n",
       "PALERMO             3632.057960\n",
       "RETIRO              3417.635657\n",
       "RECOLETA            3346.748987\n",
       "BELGRANO            3338.725206"
      ]
     },
     "execution_count": 37,
     "metadata": {},
     "output_type": "execute_result"
    }
   ],
   "source": [
    "table = pd.pivot_table(df, values='price_usd_per_m2', index=['barrio'], aggfunc=np.mean)\n",
    "more_expensive = table.sort_values('price_usd_per_m2', ascending=False).iloc[:5]\n",
    "more_expensive"
   ]
  },
  {
   "cell_type": "markdown",
   "metadata": {},
   "source": [
    "#### Cheaper Barrios"
   ]
  },
  {
   "cell_type": "code",
   "execution_count": 38,
   "metadata": {},
   "outputs": [
    {
     "data": {
      "text/html": [
       "<div>\n",
       "<style scoped>\n",
       "    .dataframe tbody tr th:only-of-type {\n",
       "        vertical-align: middle;\n",
       "    }\n",
       "\n",
       "    .dataframe tbody tr th {\n",
       "        vertical-align: top;\n",
       "    }\n",
       "\n",
       "    .dataframe thead th {\n",
       "        text-align: right;\n",
       "    }\n",
       "</style>\n",
       "<table border=\"1\" class=\"dataframe\">\n",
       "  <thead>\n",
       "    <tr style=\"text-align: right;\">\n",
       "      <th></th>\n",
       "      <th>price_usd_per_m2</th>\n",
       "    </tr>\n",
       "    <tr>\n",
       "      <th>barrio</th>\n",
       "      <th></th>\n",
       "    </tr>\n",
       "  </thead>\n",
       "  <tbody>\n",
       "    <tr>\n",
       "      <th>VILLA SOLDATI</th>\n",
       "      <td>920.825753</td>\n",
       "    </tr>\n",
       "    <tr>\n",
       "      <th>VILLA LUGANO</th>\n",
       "      <td>1179.846071</td>\n",
       "    </tr>\n",
       "    <tr>\n",
       "      <th>VILLA RIACHUELO</th>\n",
       "      <td>1274.809950</td>\n",
       "    </tr>\n",
       "    <tr>\n",
       "      <th>PARQUE AVELLANEDA</th>\n",
       "      <td>1386.260577</td>\n",
       "    </tr>\n",
       "    <tr>\n",
       "      <th>NUEVA POMPEYA</th>\n",
       "      <td>1539.235869</td>\n",
       "    </tr>\n",
       "  </tbody>\n",
       "</table>\n",
       "</div>"
      ],
      "text/plain": [
       "                   price_usd_per_m2\n",
       "barrio                             \n",
       "VILLA SOLDATI            920.825753\n",
       "VILLA LUGANO            1179.846071\n",
       "VILLA RIACHUELO         1274.809950\n",
       "PARQUE AVELLANEDA       1386.260577\n",
       "NUEVA POMPEYA           1539.235869"
      ]
     },
     "execution_count": 38,
     "metadata": {},
     "output_type": "execute_result"
    }
   ],
   "source": [
    "table = pd.pivot_table(df, values='price_usd_per_m2', index=['barrio'], aggfunc=np.mean)\n",
    "cheaper_barrios = table.sort_values('price_usd_per_m2', ascending=True).iloc[:5]\n",
    "cheaper_barrios"
   ]
  },
  {
   "cell_type": "markdown",
   "metadata": {},
   "source": [
    "## Some more charts\n",
    "\n",
    "Now that I know which are the more expensive and chepear Barrios, i'll run some charts in order to understand any further difference based on the other attributes. For example:\n",
    "\n",
    "1) Surface total\n",
    "\n",
    "2) Rooms.\n",
    "\n",
    "3) Price per M2"
   ]
  },
  {
   "cell_type": "code",
   "execution_count": 39,
   "metadata": {},
   "outputs": [],
   "source": [
    "more_expensive = more_expensive.index \n",
    "cheaper_barrios = cheaper_barrios.index"
   ]
  },
  {
   "cell_type": "code",
   "execution_count": 42,
   "metadata": {},
   "outputs": [
    {
     "name": "stderr",
     "output_type": "stream",
     "text": [
      "G:\\Anaconda\\envs\\Prueba\\lib\\site-packages\\seaborn\\distributions.py:2551: FutureWarning: `distplot` is a deprecated function and will be removed in a future version. Please adapt your code to use either `displot` (a figure-level function with similar flexibility) or `histplot` (an axes-level function for histograms).\n",
      "  warnings.warn(msg, FutureWarning)\n",
      "G:\\Anaconda\\envs\\Prueba\\lib\\site-packages\\seaborn\\distributions.py:2551: FutureWarning: `distplot` is a deprecated function and will be removed in a future version. Please adapt your code to use either `displot` (a figure-level function with similar flexibility) or `histplot` (an axes-level function for histograms).\n",
      "  warnings.warn(msg, FutureWarning)\n"
     ]
    },
    {
     "data": {
      "text/plain": [
       "<matplotlib.legend.Legend at 0x2012aea6640>"
      ]
     },
     "execution_count": 42,
     "metadata": {},
     "output_type": "execute_result"
    },
    {
     "data": {
      "image/png": "[encoded data removed]",
      "text/plain": [
       "<Figure size 864x576 with 1 Axes>"
      ]
     },
     "metadata": {
      "needs_background": "light"
     },
     "output_type": "display_data"
    }
   ],
   "source": [
    "g = sns.distplot(df_filtered[df_filtered.barrio.isin(cheaper_barrios)].surface_total_in_m2, label=\"Cheaper Barrios\")\n",
    "sns.distplot(df_filtered[df_filtered.barrio.isin(more_expensive)].surface_total_in_m2, label=\"More Expensive Barrios\")\n",
    "g.set_xlim(0, 400)\n",
    "plt.legend()"
   ]
  },
  {
   "cell_type": "code",
   "execution_count": 43,
   "metadata": {},
   "outputs": [
    {
     "name": "stderr",
     "output_type": "stream",
     "text": [
      "G:\\Anaconda\\envs\\Prueba\\lib\\site-packages\\seaborn\\distributions.py:2551: FutureWarning: `distplot` is a deprecated function and will be removed in a future version. Please adapt your code to use either `displot` (a figure-level function with similar flexibility) or `histplot` (an axes-level function for histograms).\n",
      "  warnings.warn(msg, FutureWarning)\n",
      "G:\\Anaconda\\envs\\Prueba\\lib\\site-packages\\seaborn\\distributions.py:2551: FutureWarning: `distplot` is a deprecated function and will be removed in a future version. Please adapt your code to use either `displot` (a figure-level function with similar flexibility) or `histplot` (an axes-level function for histograms).\n",
      "  warnings.warn(msg, FutureWarning)\n"
     ]
    },
    {
     "data": {
      "text/plain": [
       "<matplotlib.legend.Legend at 0x2012ae1cb80>"
      ]
     },
     "execution_count": 43,
     "metadata": {},
     "output_type": "execute_result"
    },
    {
     "data": {
      "image/png": "[encoded data removed]",
      "text/plain": [
       "<Figure size 864x576 with 1 Axes>"
      ]
     },
     "metadata": {
      "needs_background": "light"
     },
     "output_type": "display_data"
    }
   ],
   "source": [
    "g = sns.distplot(df_filtered[df_filtered.barrio.isin(cheaper_barrios)].rooms, label=\"Cheaper Barrios\")\n",
    "sns.distplot(df_filtered[df_filtered.barrio.isin(more_expensive)].rooms, label=\"More Expensive Barrios\")\n",
    "g.set_xlim(0, 10)\n",
    "plt.legend()"
   ]
  },
  {
   "cell_type": "code",
   "execution_count": 45,
   "metadata": {},
   "outputs": [
    {
     "name": "stderr",
     "output_type": "stream",
     "text": [
      "G:\\Anaconda\\envs\\Prueba\\lib\\site-packages\\seaborn\\distributions.py:2551: FutureWarning: `distplot` is a deprecated function and will be removed in a future version. Please adapt your code to use either `displot` (a figure-level function with similar flexibility) or `histplot` (an axes-level function for histograms).\n",
      "  warnings.warn(msg, FutureWarning)\n",
      "G:\\Anaconda\\envs\\Prueba\\lib\\site-packages\\seaborn\\distributions.py:2551: FutureWarning: `distplot` is a deprecated function and will be removed in a future version. Please adapt your code to use either `displot` (a figure-level function with similar flexibility) or `histplot` (an axes-level function for histograms).\n",
      "  warnings.warn(msg, FutureWarning)\n"
     ]
    },
    {
     "data": {
      "text/plain": [
       "<matplotlib.legend.Legend at 0x2012a902ca0>"
      ]
     },
     "execution_count": 45,
     "metadata": {},
     "output_type": "execute_result"
    },
    {
     "data": {
      "image/png": "[encoded data removed]",
      "text/plain": [
       "<Figure size 864x576 with 1 Axes>"
      ]
     },
     "metadata": {
      "needs_background": "light"
     },
     "output_type": "display_data"
    }
   ],
   "source": [
    "g = sns.distplot(df_filtered[df_filtered.barrio.isin(cheaper_barrios)].price_usd_per_m2, label=\"Cheaper Barrios\")\n",
    "sns.distplot(df_filtered[df_filtered.barrio.isin(more_expensive)].price_usd_per_m2, label=\"More Expensive Barrios\")\n",
    "plt.legend()\n"
   ]
  }
 ],
 "metadata": {
  "kernelspec": {
   "display_name": "Python 3",
   "language": "python",
   "name": "python3"
  },
  "language_info": {
   "codemirror_mode": {
    "name": "ipython",
    "version": 3
   },
   "file_extension": ".py",
   "mimetype": "text/x-python",
   "name": "python",
   "nbconvert_exporter": "python",
   "pygments_lexer": "ipython3",
   "version": "3.8.5"
  }
 },
 "nbformat": 4,
 "nbformat_minor": 2
}
